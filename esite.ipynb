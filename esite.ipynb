{
 "cells": [
  {
   "cell_type": "code",
   "execution_count": 40,
   "metadata": {},
   "outputs": [
    {
     "name": "stdout",
     "output_type": "stream",
     "text": [
      "https://e-hentai.org/s/a04c2bf142/1187477-1\n"
     ]
    }
   ],
   "source": [
    "# encoding=utf-8\n",
    "# Author: kellyhwong\n",
    "# Date: 2018.4.25\n",
    "import requests\n",
    "from bs4 import BeautifulSoup\n",
    "import urllib\n",
    "import requests\n",
    "\n",
    "DEF_DEBUG = 0\n",
    "\n",
    "def download_page(url):\n",
    "    headers = {\n",
    "        'User-Agent': 'Mozilla/5.0 (Macintosh; Intel Mac OS X 10_11_2) AppleWebKit/537.36 (KHTML, like Gecko) Chrome/47.0.2526.80 Safari/537.36'\n",
    "    }\n",
    "    data = requests.get(url, headers=headers).content\n",
    "    return data\n",
    "\n",
    "test_filename = 'test.html'\n",
    "\n",
    "def main():\n",
    "    url = 'https://e-hentai.org/g/1187477/edec63445c/'\n",
    "    html_doc = download_page(url).decode('utf-8')\n",
    "    soup = BeautifulSoup(html_doc,\"lxml\")\n",
    "    with open(test_filename, 'w') as f:\n",
    "        print(html_doc, file=f)\n",
    "        \n",
    "    # find elements by id\n",
    "    img_table = soup.find(\"div\", {\"id\": 'gdt'})\n",
    "#     print(img_table)\n",
    "    imgs_list = img_table.find_all(\"div\", {\"class\": 'gdtm'})\n",
    "#     print(imgs_list)\n",
    "    tmp = imgs_list[0].find(\"a\", recursive=True)\n",
    "    print(tmp['href']) # got the sub link, like: https://e-hentai.org/s/a04c2bf142/1187477-1\n",
    "    sub_url = tmp['href']\n",
    "#     print(sub_url)\n",
    "    sub_html = download_page(sub_url).decode('utf-8') # ....复制粘贴不够仔细\n",
    "    sub_soup = BeautifulSoup(sub_html,\"lxml\")\n",
    "#     sub_filename = \"rqb.html\" # emmmmm，原来打开的不是那个。。。\n",
    "#     with open(sub_filename, 'w') as f:\n",
    "#         print(sub_html, file=f)\n",
    "#     print(sub_soup)\n",
    "    # got the sub page\n",
    "    rbq = sub_soup.find_all(\"div\", {\"id\": \"i3\"}, recursive=True) # id=\"i3\", the frontend enginer should be fired\n",
    "    # <img id=\"img\">\n",
    "    # try it back again\n",
    "    img = sub_soup.find(\"img\", {\"id\": \"img\"}, recursive=True)\n",
    "    img_url = img[\"src\"]\n",
    "    \n",
    "\n",
    "    # 10年的代码了，估计接口早换了。。。    testfile = urllib.URLopener()\n",
    "#     testfile.retrieve(img_url, \"iloverbs.jpg\")\n",
    "    img_get = requests.get(img_url)\n",
    "    image_name = \"test.jpg\"\n",
    "    with open(image_name, \"wb\") as f:\n",
    "        f.write(img_get.content)\n",
    "        \n",
    "    # 好了，整理一下代码\n",
    "    # module 'urllib' has no attribute 'urlretrieve'\n",
    "    # output: \n",
    "    # hao le\n",
    "    # 但是url是带参数的，怎么获取文件。。。，加&\n",
    "    # en, 不加也可以\n",
    "\n",
    "    # great, img is a open label, maybe cannot be found, try a outside\n",
    "#     rbq.find_all()\n",
    "#     print(imgs)\n",
    "#     for sub_img in imgs_list:\n",
    "        # TODO\n",
    "#         print(\"sb\")\n",
    "\n",
    "if __name__ == '__main__':\n",
    "    main()\n"
   ]
  },
  {
   "cell_type": "code",
   "execution_count": null,
   "metadata": {},
   "outputs": [],
   "source": []
  }
 ],
 "metadata": {
  "kernelspec": {
   "display_name": "Python 3",
   "language": "python",
   "name": "python3"
  },
  "language_info": {
   "codemirror_mode": {
    "name": "ipython",
    "version": 3
   },
   "file_extension": ".py",
   "mimetype": "text/x-python",
   "name": "python",
   "nbconvert_exporter": "python",
   "pygments_lexer": "ipython3",
   "version": "3.6.5"
  }
 },
 "nbformat": 4,
 "nbformat_minor": 2
}
